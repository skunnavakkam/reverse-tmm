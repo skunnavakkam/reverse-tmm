{
 "cells": [
  {
   "cell_type": "code",
   "execution_count": null,
   "metadata": {},
   "outputs": [],
   "source": [
    "import tmm\n",
    "import numpy as np\n",
    "import matplotlib.pyplot as plt"
   ]
  },
  {
   "cell_type": "code",
   "execution_count": null,
   "metadata": {},
   "outputs": [],
   "source": [
    "# tests\n",
    "\n",
    "def coh_tmm_test() -> bool:\n",
    "    pass"
   ]
  },
  {
   "cell_type": "code",
   "execution_count": null,
   "metadata": {},
   "outputs": [],
   "source": [
    "from numpy import NaN\n",
    "\n",
    "def inverse_coh_tmm(n_list, d_list, lam_vac, reflected_power, transmitted_power):\n",
    "    if NaN in n_list:\n",
    "        return _inverse_coh_tmm_index(n_list, d_list, lam_vac, reflected_power, transmitted_power)\n",
    "    else:\n",
    "        return _inverse_coh_tmm_depth(n_list, d_list, lam_vac, reflected_power, transmitted_power)\n",
    "    pass\n",
    "\n",
    "def _inverse_coh_tmm_index(n_list, d_list, lam_vac, reflected_power, transmitted_power):\n",
    "    pass\n",
    "\n",
    "def _inverse_coh_tmm_depth(n_list, d_list, lam_vac, reflected_power, transmitted_power):\n",
    "    pass"
   ]
  }
 ],
 "metadata": {
  "language_info": {
   "name": "python"
  },
  "orig_nbformat": 4
 },
 "nbformat": 4,
 "nbformat_minor": 2
}
